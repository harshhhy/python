{
 "cells": [
  {
   "cell_type": "code",
   "execution_count": 1,
   "id": "49fffe00",
   "metadata": {},
   "outputs": [
    {
     "name": "stdout",
     "output_type": "stream",
     "text": [
      "101 joseph\n"
     ]
    }
   ],
   "source": [
    "class Student:\n",
    "    roll_num =101\n",
    "    name='joseph'\n",
    "    \n",
    "    def display(self):\n",
    "        print(self.roll_num,self.name)\n",
    "st=Student()\n",
    "st.display()"
   ]
  },
  {
   "cell_type": "code",
   "execution_count": null,
   "id": "b2185549",
   "metadata": {},
   "outputs": [],
   "source": [
    "\n",
    "        \n",
    "    "
   ]
  },
  {
   "cell_type": "code",
   "execution_count": 6,
   "id": "97131c31",
   "metadata": {},
   "outputs": [
    {
     "name": "stdout",
     "output_type": "stream",
     "text": [
      "jhdgjh\n",
      "john\n"
     ]
    }
   ],
   "source": [
    "class Student:\n",
    "    def __init__(self,name):\n",
    "        print('jhdgjh')\n",
    "        self.name=name\n",
    "        \n",
    "    def show(self):\n",
    "        print(self.name)\n",
    "        \n",
    "st = Student('john')\n",
    "st.show()\n"
   ]
  },
  {
   "cell_type": "code",
   "execution_count": 12,
   "id": "6304d6a8",
   "metadata": {},
   "outputs": [
    {
     "name": "stdout",
     "output_type": "stream",
     "text": [
      "hii\n"
     ]
    },
    {
     "ename": "AttributeError",
     "evalue": "'third' object has no attribute 'b'",
     "output_type": "error",
     "traceback": [
      "\u001b[1;31m---------------------------------------------------------------------------\u001b[0m",
      "\u001b[1;31mAttributeError\u001b[0m                            Traceback (most recent call last)",
      "Input \u001b[1;32mIn [12]\u001b[0m, in \u001b[0;36m<cell line: 15>\u001b[1;34m()\u001b[0m\n\u001b[0;32m     13\u001b[0m obj\u001b[38;5;241m=\u001b[39mthird()\n\u001b[0;32m     14\u001b[0m obj\u001b[38;5;241m.\u001b[39ma()\n\u001b[1;32m---> 15\u001b[0m \u001b[43mobj\u001b[49m\u001b[38;5;241;43m.\u001b[39;49m\u001b[43mb\u001b[49m()\n\u001b[0;32m     16\u001b[0m obj\u001b[38;5;241m.\u001b[39mc()\n",
      "\u001b[1;31mAttributeError\u001b[0m: 'third' object has no attribute 'b'"
     ]
    }
   ],
   "source": [
    "class first():\n",
    "    def a(self):\n",
    "        print('hii')\n",
    "    \n",
    "class second(first):\n",
    "    def b(self):\n",
    "        print('hello')\n",
    "        \n",
    "class third(first):\n",
    "    def c(self):\n",
    "        print('wassup')\n",
    "\n",
    "obj=third()\n",
    "obj.a()\n",
    "obj.b()\n",
    "obj.c()"
   ]
  },
  {
   "cell_type": "code",
   "execution_count": null,
   "id": "d684346c",
   "metadata": {},
   "outputs": [],
   "source": []
  }
 ],
 "metadata": {
  "kernelspec": {
   "display_name": "Python 3 (ipykernel)",
   "language": "python",
   "name": "python3"
  },
  "language_info": {
   "codemirror_mode": {
    "name": "ipython",
    "version": 3
   },
   "file_extension": ".py",
   "mimetype": "text/x-python",
   "name": "python",
   "nbconvert_exporter": "python",
   "pygments_lexer": "ipython3",
   "version": "3.9.12"
  }
 },
 "nbformat": 4,
 "nbformat_minor": 5
}
