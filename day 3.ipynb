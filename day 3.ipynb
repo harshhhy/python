{
 "cells": [
  {
   "cell_type": "code",
   "execution_count": null,
   "id": "f7964ea8",
   "metadata": {},
   "outputs": [],
   "source": [
    "dir(dict)"
   ]
  },
  {
   "cell_type": "code",
   "execution_count": null,
   "id": "bbd1e12a",
   "metadata": {},
   "outputs": [],
   "source": [
    "a=int(input('enter any number'))\n",
    "\n",
    "if(a > 20):\n",
    "    print('a is greater than 20')\n",
    "else:\n",
    "    print('a is smaller than 20')\n",
    "    "
   ]
  },
  {
   "cell_type": "code",
   "execution_count": null,
   "id": "b111e04e",
   "metadata": {},
   "outputs": [],
   "source": [
    "a=int(input('enter any number') )\n",
    "\n",
    "if(a%2==0):\n",
    "    print('a is even number')\n",
    "else:\n",
    "    print('a is odd number')"
   ]
  },
  {
   "cell_type": "code",
   "execution_count": null,
   "id": "c8734479",
   "metadata": {},
   "outputs": [],
   "source": [
    "a=int(input('enter length'))\n",
    "b=int(input('enter breadth'))\n",
    "\n",
    "if(a==b):\n",
    "    print('shape is square')\n",
    "else:\n",
    "    print('shape is rectangle')"
   ]
  },
  {
   "cell_type": "code",
   "execution_count": null,
   "id": "f74b9b1f",
   "metadata": {},
   "outputs": [],
   "source": [
    "x=input('enter any name')\n",
    "d=o\n",
    "\n",
    "d=d+x.count('a')\n",
    "\n",
    "\n",
    "\n"
   ]
  },
  {
   "cell_type": "code",
   "execution_count": null,
   "id": "872ac67d",
   "metadata": {},
   "outputs": [],
   "source": [
    "x=input('enter any name')\n",
    "d=0\n",
    "\n",
    "d=d+x.count('a')\n",
    "d=d+x.count('e')\n",
    "d=d+x.count('i')\n",
    "d=d+x.count('o')\n",
    "d=d+x.count('u')\n",
    "print(d)"
   ]
  },
  {
   "cell_type": "code",
   "execution_count": 7,
   "id": "559fb7c0",
   "metadata": {},
   "outputs": [
    {
     "name": "stdout",
     "output_type": "stream",
     "text": [
      "enter any number66\n",
      "c\n"
     ]
    }
   ],
   "source": [
    "marks =int(input('enter any number'))\n",
    "if (marks >=80):\n",
    "    print('A')\n",
    "    \n",
    "elif(marks >=70):\n",
    "    print('B')\n",
    "    \n",
    "elif(marks>=60):\n",
    "      print('c')\n",
    "else:\n",
    "    print('fail')\n",
    "    "
   ]
  },
  {
   "cell_type": "code",
   "execution_count": 25,
   "id": "e4824bfc",
   "metadata": {},
   "outputs": [
    {
     "name": "stdout",
     "output_type": "stream",
     "text": [
      "enter any number6\n",
      "j is divisible by 2\n",
      "j is divisible by 2 and 3\n"
     ]
    }
   ],
   "source": [
    "j=int(input('enter any number'))\n",
    "\n",
    "if(j%2==0):\n",
    "    print('j is divisible by 2')\n",
    "    if(j%3==0):\n",
    "        print('j is divisible by 2 and 3')\n",
    "    else:\n",
    "        print('j is not divisible by 2 and 3')\n",
    "    \n",
    "    \n",
    "elif(j%3==0):\n",
    "    print(' j is divisible by 3')\n",
    "\n",
    "else:\n",
    "    print('j is not divisible')"
   ]
  },
  {
   "cell_type": "code",
   "execution_count": null,
   "id": "df158f1e",
   "metadata": {},
   "outputs": [],
   "source": []
  },
  {
   "cell_type": "code",
   "execution_count": null,
   "id": "d4c32bb8",
   "metadata": {},
   "outputs": [],
   "source": []
  }
 ],
 "metadata": {
  "kernelspec": {
   "display_name": "Python 3 (ipykernel)",
   "language": "python",
   "name": "python3"
  },
  "language_info": {
   "codemirror_mode": {
    "name": "ipython",
    "version": 3
   },
   "file_extension": ".py",
   "mimetype": "text/x-python",
   "name": "python",
   "nbconvert_exporter": "python",
   "pygments_lexer": "ipython3",
   "version": "3.9.12"
  }
 },
 "nbformat": 4,
 "nbformat_minor": 5
}
