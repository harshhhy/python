{
 "cells": [
  {
   "cell_type": "code",
   "execution_count": 1,
   "id": "1641deb3",
   "metadata": {},
   "outputs": [
    {
     "name": "stdout",
     "output_type": "stream",
     "text": [
      "101 joseph\n"
     ]
    }
   ],
   "source": [
    "class Student:\n",
    "    roll_num =101\n",
    "    name='joseph'\n",
    "    \n",
    "    def display(self):\n",
    "        print(self.roll_num,self.name)\n",
    "st=Student()\n",
    "st.display()"
   ]
  },
  {
   "cell_type": "code",
   "execution_count": null,
   "id": "13f6abd1",
   "metadata": {},
   "outputs": [],
   "source": [
    "\n",
    "        \n",
    "    "
   ]
  },
  {
   "cell_type": "code",
   "execution_count": 6,
   "id": "ee85e89e",
   "metadata": {},
   "outputs": [
    {
     "name": "stdout",
     "output_type": "stream",
     "text": [
      "jhdgjh\n",
      "john\n"
     ]
    }
   ],
   "source": [
    "class Student:\n",
    "    def __init__(self,name):\n",
    "        print('jhdgjh')\n",
    "        self.name=name\n",
    "        \n",
    "    def show(self):\n",
    "        print(self.name)\n",
    "        \n",
    "st = Student('john')\n",
    "st.show()\n"
   ]
  },
  {
   "cell_type": "code",
   "execution_count": 11,
   "id": "f5f9a6a6",
   "metadata": {},
   "outputs": [
    {
     "name": "stdout",
     "output_type": "stream",
     "text": [
      "hii\n",
      "hello\n",
      "wassup\n"
     ]
    }
   ],
   "source": [
    "class first():\n",
    "    def a(self):\n",
    "        print('hii')\n",
    "    \n",
    "class second(first):\n",
    "    def b(self):\n",
    "        print('hello')\n",
    "        \n",
    "class third(second):\n",
    "    def c(self):\n",
    "        print('wassup')\n",
    "\n",
    "obj=third()\n",
    "obj.a()\n",
    "obj.b()\n",
    "obj.c()"
   ]
  },
  {
   "cell_type": "code",
   "execution_count": null,
   "id": "eff65d52",
   "metadata": {},
   "outputs": [],
   "source": []
  }
 ],
 "metadata": {
  "kernelspec": {
   "display_name": "Python 3 (ipykernel)",
   "language": "python",
   "name": "python3"
  },
  "language_info": {
   "codemirror_mode": {
    "name": "ipython",
    "version": 3
   },
   "file_extension": ".py",
   "mimetype": "text/x-python",
   "name": "python",
   "nbconvert_exporter": "python",
   "pygments_lexer": "ipython3",
   "version": "3.9.12"
  }
 },
 "nbformat": 4,
 "nbformat_minor": 5
}
