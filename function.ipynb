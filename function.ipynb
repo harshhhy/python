{
 "cells": [
  {
   "cell_type": "code",
   "execution_count": 3,
   "id": "4a152886",
   "metadata": {},
   "outputs": [
    {
     "name": "stdout",
     "output_type": "stream",
     "text": [
      "enter any number2\n",
      "7257600\n"
     ]
    }
   ],
   "source": [
    "def fac(n):\n",
    "    for i in range (1,11):\n",
    "        n=n*i\n",
    "        print(n)\n",
    "    return n\n",
    "a=int(input('enter any number'))\n",
    "print(fac(a))"
   ]
  },
  {
   "cell_type": "code",
   "execution_count": 21,
   "id": "1f088356",
   "metadata": {},
   "outputs": [
    {
     "name": "stdout",
     "output_type": "stream",
     "text": [
      "enter any number5\n",
      "120\n"
     ]
    }
   ],
   "source": [
    "def fac(n):\n",
    "    n1=1\n",
    "    while n>1:\n",
    "        n1=n1*n\n",
    "        n=n-1\n",
    "    return n1\n",
    "\n",
    "a=int(input('enter any number'))\n",
    "print(fac(a))  "
   ]
  },
  {
   "cell_type": "code",
   "execution_count": null,
   "id": "b509e5e8",
   "metadata": {},
   "outputs": [],
   "source": []
  },
  {
   "cell_type": "code",
   "execution_count": null,
   "id": "47e52067",
   "metadata": {},
   "outputs": [],
   "source": []
  }
 ],
 "metadata": {
  "kernelspec": {
   "display_name": "Python 3 (ipykernel)",
   "language": "python",
   "name": "python3"
  },
  "language_info": {
   "codemirror_mode": {
    "name": "ipython",
    "version": 3
   },
   "file_extension": ".py",
   "mimetype": "text/x-python",
   "name": "python",
   "nbconvert_exporter": "python",
   "pygments_lexer": "ipython3",
   "version": "3.9.12"
  }
 },
 "nbformat": 4,
 "nbformat_minor": 5
}
