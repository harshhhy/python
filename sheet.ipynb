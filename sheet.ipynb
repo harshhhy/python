{
 "cells": [
  {
   "cell_type": "code",
   "execution_count": 7,
   "id": "5b222a33",
   "metadata": {},
   "outputs": [
    {
     "name": "stdout",
     "output_type": "stream",
     "text": [
      "c1rbecomescr1\n"
     ]
    }
   ],
   "source": [
    "s=\"carbecomescra\"\n",
    "print(s.replace('a','1'))"
   ]
  },
  {
   "cell_type": "code",
   "execution_count": 8,
   "id": "073177f7",
   "metadata": {},
   "outputs": [
    {
     "name": "stdout",
     "output_type": "stream",
     "text": [
      "enter any wordaware\n",
      "3\n"
     ]
    }
   ],
   "source": [
    "x=input('enter any word')\n",
    "d=0\n",
    "\n",
    "d=d+x.count('a')\n",
    "d=d+x.count('e')\n",
    "d=d+x.count('i')\n",
    "d=d+x.count('o')\n",
    "d=d+x.count('u')\n",
    "print(d)"
   ]
  },
  {
   "cell_type": "code",
   "execution_count": null,
   "id": "279258df",
   "metadata": {},
   "outputs": [],
   "source": [
    "s1=\"car\"\n",
    "s2=\"acr\"\n",
    "if(sorted(s1)==sorted(s2)):\n",
    "    print(\"strings are anagram\")\n",
    "else:\n",
    "    print(\"string are not anagram\")\n"
   ]
  },
  {
   "cell_type": "code",
   "execution_count": null,
   "id": "9afa587f",
   "metadata": {},
   "outputs": [],
   "source": [
    "a=\"abcdefg\"\n",
    "\n",
    "print(a[0:8:-1])\n"
   ]
  },
  {
   "cell_type": "code",
   "execution_count": null,
   "id": "71850f88",
   "metadata": {},
   "outputs": [],
   "source": [
    "a=\"abcdef\"\n",
    "\n",
    "print(a[0:7:2])"
   ]
  },
  {
   "cell_type": "code",
   "execution_count": null,
   "id": "76696767",
   "metadata": {},
   "outputs": [],
   "source": [
    "a=\"the quick brown fox 123\" \n",
    "print(a.count('no.of words'))"
   ]
  },
  {
   "cell_type": "code",
   "execution_count": 19,
   "id": "4e1c08f7",
   "metadata": {},
   "outputs": [
    {
     "name": "stdout",
     "output_type": "stream",
     "text": [
      "civic\n",
      "string is palindrone\n"
     ]
    }
   ],
   "source": [
    "a=\"civic\"\n",
    "\n",
    "b=\"civic\"[::-1]\n",
    "print(b)\n",
    "\n",
    "if(b==a):\n",
    "    print('string is palindrone')\n",
    "else:\n",
    "    print('not palindrone')"
   ]
  },
  {
   "cell_type": "code",
   "execution_count": 23,
   "id": "846bdf46",
   "metadata": {},
   "outputs": [
    {
     "name": "stdout",
     "output_type": "stream",
     "text": [
      "civic\n"
     ]
    }
   ],
   "source": [
    "b=\"civic\"[::-1]\n",
    "print(b)"
   ]
  },
  {
   "cell_type": "code",
   "execution_count": 12,
   "id": "fe3734f7",
   "metadata": {},
   "outputs": [
    {
     "name": "stdout",
     "output_type": "stream",
     "text": [
      "6\n"
     ]
    }
   ],
   "source": [
    "a=\"abc123cba\"\n",
    "d=0\n",
    "d=d+a.count(\"a\")\n",
    "d=d+a.count(\"b\")\n",
    "d=d+a.count(\"c\")\n",
    "print(d)"
   ]
  },
  {
   "cell_type": "code",
   "execution_count": 18,
   "id": "bd48ce86",
   "metadata": {},
   "outputs": [
    {
     "name": "stdout",
     "output_type": "stream",
     "text": [
      "civic\n"
     ]
    }
   ],
   "source": [
    "a=\"civic\"\n",
    "\n",
    "b=\"civic\"[::-1]\n",
    "print(b)"
   ]
  },
  {
   "cell_type": "code",
   "execution_count": null,
   "id": "43460278",
   "metadata": {},
   "outputs": [],
   "source": []
  }
 ],
 "metadata": {
  "kernelspec": {
   "display_name": "Python 3 (ipykernel)",
   "language": "python",
   "name": "python3"
  },
  "language_info": {
   "codemirror_mode": {
    "name": "ipython",
    "version": 3
   },
   "file_extension": ".py",
   "mimetype": "text/x-python",
   "name": "python",
   "nbconvert_exporter": "python",
   "pygments_lexer": "ipython3",
   "version": "3.9.12"
  }
 },
 "nbformat": 4,
 "nbformat_minor": 5
}
