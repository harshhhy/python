{
 "cells": [
  {
   "cell_type": "code",
   "execution_count": null,
   "id": "f7964ea8",
   "metadata": {},
   "outputs": [],
   "source": [
    "dir(dict)"
   ]
  },
  {
   "cell_type": "code",
   "execution_count": null,
   "id": "bbd1e12a",
   "metadata": {},
   "outputs": [],
   "source": [
    "a=int(input('enter any number'))\n",
    "\n",
    "if(a > 20):\n",
    "    print('a is greater than 20')\n",
    "else:\n",
    "    print('a is smaller than 20')\n",
    "    "
   ]
  },
  {
   "cell_type": "code",
   "execution_count": null,
   "id": "b111e04e",
   "metadata": {},
   "outputs": [],
   "source": [
    "a=int(input('enter any number') )\n",
    "\n",
    "if(a%2==0):\n",
    "    print('a is even number')\n",
    "else:\n",
    "    print('a is odd number')"
   ]
  },
  {
   "cell_type": "code",
   "execution_count": null,
   "id": "c8734479",
   "metadata": {},
   "outputs": [],
   "source": [
    "a=int(input('enter length'))\n",
    "b=int(input('enter breadth'))\n",
    "\n",
    "if(a==b):\n",
    "    print('shape is square')\n",
    "else:\n",
    "    print('shape is rectangle')"
   ]
  },
  {
   "cell_type": "code",
   "execution_count": null,
   "id": "f74b9b1f",
   "metadata": {},
   "outputs": [],
   "source": [
    "x=input('enter any name')\n",
    "d=o\n",
    "\n",
    "d=d+x.count('a')\n",
    "\n",
    "\n",
    "\n"
   ]
  },
  {
   "cell_type": "code",
   "execution_count": null,
   "id": "872ac67d",
   "metadata": {},
   "outputs": [],
   "source": [
    "x=input('enter any name')\n",
    "d=0\n",
    "\n",
    "d=d+x.count('a')\n",
    "d=d+x.count('e')\n",
    "d=d+x.count('i')\n",
    "d=d+x.count('o')\n",
    "d=d+x.count('u')\n",
    "print(d)"
   ]
  },
  {
   "cell_type": "code",
   "execution_count": null,
   "id": "559fb7c0",
   "metadata": {},
   "outputs": [],
   "source": [
    "marks =int(input('enter any number'))\n",
    "if (marks >=80):\n",
    "    print('A')\n",
    "    \n",
    "elif(marks >=70):\n",
    "    print('B')\n",
    "    \n",
    "elif(marks>=60):\n",
    "      print('c')\n",
    "else:\n",
    "    print('fail')\n",
    "    "
   ]
  },
  {
   "cell_type": "code",
   "execution_count": null,
   "id": "e4824bfc",
   "metadata": {},
   "outputs": [],
   "source": [
    "j=int(input('enter any number'))\n",
    "\n",
    "if(j%2==0):\n",
    "\n",
    "    if(j%3==0):\n",
    "        print('j is divisible by 2 and 3')\n",
    "            \n",
    "    \n",
    "    else:\n",
    "        print('only divide by 2')\n",
    "    \n",
    "    \n",
    "elif(j%3==0):\n",
    "    print(' j is divisible by 3')\n",
    "\n",
    "else:\n",
    "    print('j is not divisible by both 2 and 3')"
   ]
  },
  {
   "cell_type": "code",
   "execution_count": null,
   "id": "df158f1e",
   "metadata": {},
   "outputs": [],
   "source": [
    "n=(1,2,3,4,5,6,7,8,9,10)\n",
    "\n",
    "for i in range( 1, 10 ,1):\n",
    "    print(i)"
   ]
  },
  {
   "cell_type": "code",
   "execution_count": null,
   "id": "8edfe81a",
   "metadata": {},
   "outputs": [],
   "source": [
    "n=int(input('enter any value'))\n",
    "\n",
    "for i in range(1,n):\n",
    "    n=n*i\n",
    "    \n",
    "print(n)"
   ]
  },
  {
   "cell_type": "code",
   "execution_count": null,
   "id": "08a823ff",
   "metadata": {},
   "outputs": [],
   "source": [
    "n=int(input('enter any number'))\n",
    "\n",
    "for i in range(1,10+1):\n",
    "    n=n*i\n",
    "    \n",
    "    print(n)"
   ]
  },
  {
   "cell_type": "code",
   "execution_count": 4,
   "id": "eb18a48a",
   "metadata": {},
   "outputs": [
    {
     "name": "stdout",
     "output_type": "stream",
     "text": [
      "enter any value2\n",
      "2\n",
      "4\n",
      "6\n",
      "8\n",
      "10\n",
      "12\n",
      "14\n",
      "16\n",
      "18\n",
      "20\n"
     ]
    }
   ],
   "source": [
    "u = int(input('enter any value'))\n",
    "\n",
    "for i in range(1,10+1,1):\n",
    "    n=i*u\n",
    "    \n",
    "    print(n)"
   ]
  },
  {
   "cell_type": "code",
   "execution_count": null,
   "id": "21851eba",
   "metadata": {},
   "outputs": [],
   "source": [
    "\n",
    "n=int(input('how many terms'))\n",
    "\n",
    "for i in range(1,n):\n",
    "\n",
    "    \n",
    "    print(s)"
   ]
  },
  {
   "cell_type": "code",
   "execution_count": 5,
   "id": "40b33e41",
   "metadata": {},
   "outputs": [
    {
     "name": "stdout",
     "output_type": "stream",
     "text": [
      "0\n",
      "1\n",
      "1\n",
      "2\n",
      "3\n",
      "5\n",
      "8\n"
     ]
    }
   ],
   "source": [
    "n=7\n",
    "\n",
    "a=0\n",
    "b=1\n",
    "if(n==1):\n",
    "    print(a)\n",
    "else:\n",
    "    print(a)\n",
    "    print(b)\n",
    "    for i in range (2,n):\n",
    "        c=a+b\n",
    "        a=b\n",
    "        b=c\n",
    "        print(c)"
   ]
  },
  {
   "cell_type": "code",
   "execution_count": 13,
   "id": "389ca51f",
   "metadata": {},
   "outputs": [
    {
     "name": "stdout",
     "output_type": "stream",
     "text": [
      "[1, 4, 9, 16, 25]\n"
     ]
    }
   ],
   "source": [
    "a=[1,2,3,4,5]\n",
    "b=[]\n",
    "\n",
    "for i in a:\n",
    "    b.append(i**2)\n",
    "print(b)\n",
    "\n"
   ]
  },
  {
   "cell_type": "code",
   "execution_count": null,
   "id": "ca125c47",
   "metadata": {},
   "outputs": [],
   "source": []
  },
  {
   "cell_type": "code",
   "execution_count": null,
   "id": "73614104",
   "metadata": {},
   "outputs": [],
   "source": []
  }
 ],
 "metadata": {
  "kernelspec": {
   "display_name": "Python 3 (ipykernel)",
   "language": "python",
   "name": "python3"
  },
  "language_info": {
   "codemirror_mode": {
    "name": "ipython",
    "version": 3
   },
   "file_extension": ".py",
   "mimetype": "text/x-python",
   "name": "python",
   "nbconvert_exporter": "python",
   "pygments_lexer": "ipython3",
   "version": "3.9.12"
  }
 },
 "nbformat": 4,
 "nbformat_minor": 5
}
