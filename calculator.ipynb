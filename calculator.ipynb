{
 "cells": [
  {
   "cell_type": "code",
   "execution_count": null,
   "id": "d03a0725",
   "metadata": {},
   "outputs": [],
   "source": [
    "num = input('Enter phone number  :')\n",
    "\n",
    "if len(num)<10:\n",
    "    print('invalid number')\n",
    "    \n",
    "elif num.isalpha():\n",
    "    print('invalid')\n",
    "    \n",
    "elif len(num)==11 or len(num)==12 or len(num)==13:\n",
    "    if num[0]=='0':\n",
    "        print('{}-{}-{}-{}'.format(num[0],num[1:5],num[5:8],num[8::]))\n",
    "        \n",
    "    elif num[0:2]=='91':\n",
    "        print('{}-{}-{}-{}'.format(num[0:2],num[2:6],num[6:9],num[9::]))\n",
    "    elif num[0:3]=='+91':\n",
    "        print('{}-{}-{}-{}'.format(num[0:3],num[3:7],num[7:10],num[10::]))\n",
    "    \n",
    "    else:\n",
    "        print('invalid')\n",
    "        \n",
    "else:\n",
    "    print(num)\n",
    "\n",
    "\n",
    "\n",
    "              \n",
    "    "
   ]
  },
  {
   "cell_type": "code",
   "execution_count": 8,
   "id": "f86c1d59",
   "metadata": {},
   "outputs": [
    {
     "name": "stdout",
     "output_type": "stream",
     "text": [
      "addition\n",
      "subtraction\n",
      "muliplication\n",
      "divsion\n",
      "enter any number3\n",
      "enter any number3\n",
      "enter any number3\n",
      "9\n"
     ]
    }
   ],
   "source": [
    "def add(num1,num2):\n",
    "    return num1+num2\n",
    "def sub(num1,num2):\n",
    "    return num1-num2\n",
    "def mul(num1,num2):\n",
    "    return num1*num2\n",
    "def div(num1,num2):\n",
    "    return num1/num2\n",
    "    \n",
    "\n",
    "    \n",
    "\n",
    "            \n",
    "print('addition')\n",
    "print('subtraction')\n",
    "print('muliplication')\n",
    "print('divsion')\n",
    "\n",
    "\n",
    "while True:\n",
    "    choices=input('enter any number')\n",
    "    \n",
    "    if choices in ('1','2','3','4'):\n",
    "        a=int(input('enter any number'))\n",
    "        b=int(input('enter any number'))\n",
    "    \n",
    "\n",
    "        if choices=='1':\n",
    "            print(add(a,b))\n",
    "        elif choices=='2':\n",
    "            print(sub(a,b))\n",
    "        elif choices=='3':\n",
    "            print(mul(a,b))\n",
    "        elif choices=='4':\n",
    "            print(div(a,b))\n",
    "        else:\n",
    "            print('enter correct number')\n",
    "        break\n",
    "\n",
    "    \n",
    "    else:\n",
    "        print('enter correct input')\n"
   ]
  },
  {
   "cell_type": "markdown",
   "id": "78a024d2",
   "metadata": {},
   "source": [
    "# def add(a,b):\n",
    "    s=a+b\n",
    "    print(s)\n",
    "a=int(input('enter any number'))\n",
    "b=int(input('enter any number'))\n",
    "print(add(a,b))\n",
    "    "
   ]
  },
  {
   "cell_type": "code",
   "execution_count": null,
   "id": "d12bee6e",
   "metadata": {},
   "outputs": [],
   "source": [
    "import re\n",
    "\n",
    "while True:\n",
    "    user_input=input('enter a password:')\n",
    "    is_valid=False\n",
    "    \n",
    "    if (len(user_input)<8):\n",
    "        print('not valid! total chararcter should be in between 6 and 12')\n",
    "        continue\n",
    "        \n",
    "    elif not re.search('[A-Z]',user_input):\n",
    "        print('not valid ! it should contain one letter between [A-Z] ')\n",
    "        continue\n",
    "    elif not re.search('[a-z]',user_input):\n",
    "        print('not valid! it should contain one letter between [a-z]')\n",
    "        continue\n",
    "    elif not re.search('[0-9]',user_input):\n",
    "        print('not valid! it should contain one number between[0-9]')\n",
    "        continue\n",
    "    elif not re.search('[!@#$%^&*]',user_input):\n",
    "        print('not valid !it should contain one special character')\n",
    "        continue\n",
    "    else:\n",
    "        is_valid=True\n",
    "        break\n",
    "\n",
    "if(is_valid):\n",
    "    print('password is valid')\n",
    "    "
   ]
  },
  {
   "cell_type": "code",
   "execution_count": null,
   "id": "68c588e6",
   "metadata": {},
   "outputs": [],
   "source": []
  },
  {
   "cell_type": "code",
   "execution_count": null,
   "id": "606d00cb",
   "metadata": {},
   "outputs": [],
   "source": []
  },
  {
   "cell_type": "code",
   "execution_count": null,
   "id": "bdd2e0c6",
   "metadata": {},
   "outputs": [],
   "source": []
  },
  {
   "cell_type": "code",
   "execution_count": null,
   "id": "c7b5e856",
   "metadata": {},
   "outputs": [],
   "source": []
  },
  {
   "cell_type": "code",
   "execution_count": null,
   "id": "25b1ab99",
   "metadata": {},
   "outputs": [],
   "source": []
  },
  {
   "cell_type": "code",
   "execution_count": null,
   "id": "cb876584",
   "metadata": {},
   "outputs": [],
   "source": []
  },
  {
   "cell_type": "code",
   "execution_count": null,
   "id": "1b5d6e77",
   "metadata": {},
   "outputs": [],
   "source": []
  },
  {
   "cell_type": "code",
   "execution_count": null,
   "id": "b1b60b99",
   "metadata": {},
   "outputs": [],
   "source": []
  },
  {
   "cell_type": "code",
   "execution_count": null,
   "id": "151f6398",
   "metadata": {},
   "outputs": [],
   "source": []
  },
  {
   "cell_type": "code",
   "execution_count": null,
   "id": "92c23282",
   "metadata": {},
   "outputs": [],
   "source": []
  }
 ],
 "metadata": {
  "kernelspec": {
   "display_name": "Python 3 (ipykernel)",
   "language": "python",
   "name": "python3"
  },
  "language_info": {
   "codemirror_mode": {
    "name": "ipython",
    "version": 3
   },
   "file_extension": ".py",
   "mimetype": "text/x-python",
   "name": "python",
   "nbconvert_exporter": "python",
   "pygments_lexer": "ipython3",
   "version": "3.9.12"
  }
 },
 "nbformat": 4,
 "nbformat_minor": 5
}
