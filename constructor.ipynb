{
 "cells": [
  {
   "cell_type": "code",
   "execution_count": null,
   "id": "3df549ca",
   "metadata": {},
   "outputs": [],
   "source": [
    "a=('apple','banana','cherry')\n",
    "myit=iter(a)\n",
    "\n",
    "print(next(myit))\n",
    "print(next(myit))\n",
    "print(next(myit))"
   ]
  },
  {
   "cell_type": "code",
   "execution_count": null,
   "id": "b99ccd21",
   "metadata": {},
   "outputs": [],
   "source": [
    "def my_gen():\n",
    "    n=1\n",
    "    print('this is printed first')\n",
    "    yield n\n",
    "    \n",
    "    \n",
    "    n+=1\n",
    "    print('this is printed second')\n",
    "    yield n\n",
    "    \n",
    "    \n",
    "    n+=1\n",
    "    print('this is printed third')\n",
    "    yield n\n",
    "    \n",
    "    \n",
    "a=my_gen()\n",
    "print(next(a))\n",
    "print(next(a))\n",
    "print(next(a))"
   ]
  },
  {
   "cell_type": "code",
   "execution_count": null,
   "id": "4484db42",
   "metadata": {},
   "outputs": [],
   "source": [
    "class parrot:\n",
    "    def fly(self):\n",
    "        print('parrot can fly')\n",
    "    def swim(self):\n",
    "        print('parrot cannot swim')\n",
    "\n",
    "class penguin:\n",
    "    def fly(self):\n",
    "        print('penguin cannot fly')\n",
    "    def swim(self):\n",
    "        print('penguin can swim')\n",
    "        \n",
    "def flying_test(bird):\n",
    "    bird.swim()\n",
    "    \n",
    "blu=parrot()\n",
    "penny=penguin()\n",
    "\n",
    "flying_test(blu)\n",
    "flying_test(penny)"
   ]
  },
  {
   "cell_type": "code",
   "execution_count": 6,
   "id": "b9e93dfd",
   "metadata": {},
   "outputs": [
    {
     "name": "stdout",
     "output_type": "stream",
     "text": [
      "i am going to divide 35 and 0\n",
      "whoops ! cannot divide\n",
      "None\n"
     ]
    }
   ],
   "source": [
    "def smart_divide(func):\n",
    "    def inner(a,b):\n",
    "        print('i am going to divide',a,'and',b)\n",
    "        if b==0:\n",
    "            print('whoops ! cannot divide')\n",
    "            return\n",
    "        return func(a,b)\n",
    "    return inner\n",
    "\n",
    "@smart_divide\n",
    "def divide(a,b):\n",
    "    print(a/b)\n",
    "    \n",
    "print(divide(35,0))"
   ]
  },
  {
   "cell_type": "code",
   "execution_count": null,
   "id": "dab2ed84",
   "metadata": {},
   "outputs": [],
   "source": []
  }
 ],
 "metadata": {
  "kernelspec": {
   "display_name": "Python 3 (ipykernel)",
   "language": "python",
   "name": "python3"
  },
  "language_info": {
   "codemirror_mode": {
    "name": "ipython",
    "version": 3
   },
   "file_extension": ".py",
   "mimetype": "text/x-python",
   "name": "python",
   "nbconvert_exporter": "python",
   "pygments_lexer": "ipython3",
   "version": "3.9.12"
  }
 },
 "nbformat": 4,
 "nbformat_minor": 5
}
