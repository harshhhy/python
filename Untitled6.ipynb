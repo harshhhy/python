{
 "cells": [
  {
   "cell_type": "code",
   "execution_count": 10,
   "id": "3f2d38e2",
   "metadata": {},
   "outputs": [
    {
     "name": "stdout",
     "output_type": "stream",
     "text": [
      "Enter phone number  :abcdefghij\n",
      "invalid\n"
     ]
    }
   ],
   "source": [
    "num = input('Enter phone number  :')\n",
    "\n",
    "if len(num)<10:\n",
    "    print('invalid number')\n",
    "    \n",
    "elif num.isalpha():\n",
    "    print('invalid')\n",
    "    \n",
    "elif len(num)==11 or len(num)==12 or len(num)==13:\n",
    "    if num[0]=='0':\n",
    "        print('{}-{}-{}-{}'.format(num[0],num[1:5],num[5:8],num[8::]))\n",
    "        \n",
    "    elif num[0:2]=='91':\n",
    "        print('{}-{}-{}-{}'.format(num[0:2],num[2:6],num[6:9],num[9::]))\n",
    "    elif num[0:3]=='+91':\n",
    "        print('{}-{}-{}-{}'.format(num[0:3],num[3:7],num[7:10],num[10::]))\n",
    "    \n",
    "    else:\n",
    "        print('invalid')\n",
    "        \n",
    "else:\n",
    "    print(num)\n",
    "\n",
    "\n",
    "\n",
    "              \n",
    "    "
   ]
  },
  {
   "cell_type": "code",
   "execution_count": null,
   "id": "cb9f5c0d",
   "metadata": {},
   "outputs": [],
   "source": []
  },
  {
   "cell_type": "code",
   "execution_count": null,
   "id": "16adcf22",
   "metadata": {},
   "outputs": [],
   "source": []
  },
  {
   "cell_type": "code",
   "execution_count": null,
   "id": "a142e042",
   "metadata": {},
   "outputs": [],
   "source": []
  },
  {
   "cell_type": "code",
   "execution_count": null,
   "id": "18a4c212",
   "metadata": {},
   "outputs": [],
   "source": []
  },
  {
   "cell_type": "code",
   "execution_count": null,
   "id": "aed57f34",
   "metadata": {},
   "outputs": [],
   "source": []
  },
  {
   "cell_type": "code",
   "execution_count": null,
   "id": "de1dd5e7",
   "metadata": {},
   "outputs": [],
   "source": []
  },
  {
   "cell_type": "code",
   "execution_count": null,
   "id": "57901930",
   "metadata": {},
   "outputs": [],
   "source": []
  },
  {
   "cell_type": "code",
   "execution_count": null,
   "id": "697f65d6",
   "metadata": {},
   "outputs": [],
   "source": []
  },
  {
   "cell_type": "code",
   "execution_count": null,
   "id": "9a83d0b0",
   "metadata": {},
   "outputs": [],
   "source": []
  },
  {
   "cell_type": "code",
   "execution_count": null,
   "id": "55b0aacb",
   "metadata": {},
   "outputs": [],
   "source": []
  },
  {
   "cell_type": "code",
   "execution_count": null,
   "id": "914beba7",
   "metadata": {},
   "outputs": [],
   "source": []
  },
  {
   "cell_type": "code",
   "execution_count": null,
   "id": "160dac5f",
   "metadata": {},
   "outputs": [],
   "source": []
  },
  {
   "cell_type": "code",
   "execution_count": null,
   "id": "65693fc0",
   "metadata": {},
   "outputs": [],
   "source": []
  }
 ],
 "metadata": {
  "kernelspec": {
   "display_name": "Python 3 (ipykernel)",
   "language": "python",
   "name": "python3"
  },
  "language_info": {
   "codemirror_mode": {
    "name": "ipython",
    "version": 3
   },
   "file_extension": ".py",
   "mimetype": "text/x-python",
   "name": "python",
   "nbconvert_exporter": "python",
   "pygments_lexer": "ipython3",
   "version": "3.9.12"
  }
 },
 "nbformat": 4,
 "nbformat_minor": 5
}
