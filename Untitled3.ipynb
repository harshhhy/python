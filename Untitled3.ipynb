{
 "cells": [
  {
   "cell_type": "code",
   "execution_count": 1,
   "id": "1d3703a5",
   "metadata": {},
   "outputs": [],
   "source": [
    "import math"
   ]
  },
  {
   "cell_type": "code",
   "execution_count": 6,
   "id": "07ab4cf5",
   "metadata": {},
   "outputs": [
    {
     "name": "stdout",
     "output_type": "stream",
     "text": [
      "enter any number0\n",
      "cannot be divided by zero\n",
      "further code\n"
     ]
    }
   ],
   "source": [
    "try:\n",
    "    n=int(input('enter any number'))\n",
    "    r=1/n\n",
    "    print('reciporal of number is {} is{}'.format(n,r))\n",
    "except:\n",
    "    print('cannot be divided by zero')\n",
    "print('further code')"
   ]
  },
  {
   "cell_type": "code",
   "execution_count": 16,
   "id": "350697fe",
   "metadata": {},
   "outputs": [
    {
     "name": "stdout",
     "output_type": "stream",
     "text": [
      "enter any number0\n",
      "cannot divided by zero\n",
      "a\n"
     ]
    }
   ],
   "source": [
    "try:\n",
    "    n=int(input('enter any number'))\n",
    "    r=1/n\n",
    "    print('reciporal of number is{} is{}'.format(n,r))\n",
    "except ZeroDivisionError:\n",
    "    print('cannot divided by zero')\n",
    "except ValueError:\n",
    "    print('enter valid integral value')\n",
    "    "
   ]
  },
  {
   "cell_type": "code",
   "execution_count": 14,
   "id": "eeb030db",
   "metadata": {},
   "outputs": [
    {
     "name": "stdout",
     "output_type": "stream",
     "text": [
      "enter any number0\n",
      "cannot be divided by zero\n",
      "hwllo\n"
     ]
    }
   ],
   "source": [
    "try:\n",
    "    n=int(input('enter any number'))\n",
    "    r=1/n\n",
    "except ZeroDivisionError:\n",
    "    print('cannot be divided by zero')\n",
    "else:\n",
    "    print('reciporal of number{}is{}'.format(n,r))\n",
    "    "
   ]
  },
  {
   "cell_type": "code",
   "execution_count": 15,
   "id": "1f7b2903",
   "metadata": {},
   "outputs": [
    {
     "name": "stdout",
     "output_type": "stream",
     "text": [
      "enter any number0\n",
      "cannot be divided by zero\n",
      "further code\n"
     ]
    }
   ],
   "source": [
    "try:\n",
    "    n=int(input('enter any number'))\n",
    "    r=1/n\n",
    "except ZeroDivisionError:\n",
    "    print('cannot be divided by zero')\n",
    "else:\n",
    "    print('reciporal of number {}is{}'.format(n,r))\n",
    "finally:\n",
    "    print('further code')"
   ]
  },
  {
   "cell_type": "code",
   "execution_count": 17,
   "id": "85623db7",
   "metadata": {},
   "outputs": [
    {
     "ename": "NameError",
     "evalue": "name 'exception' is not defined",
     "output_type": "error",
     "traceback": [
      "\u001b[1;31m---------------------------------------------------------------------------\u001b[0m",
      "\u001b[1;31mZeroDivisionError\u001b[0m                         Traceback (most recent call last)",
      "Input \u001b[1;32mIn [17]\u001b[0m, in \u001b[0;36m<cell line: 3>\u001b[1;34m()\u001b[0m\n\u001b[0;32m      3\u001b[0m \u001b[38;5;28;01mtry\u001b[39;00m:\n\u001b[1;32m----> 4\u001b[0m     \u001b[38;5;28mprint\u001b[39m(\u001b[43ma\u001b[49m\u001b[38;5;241;43m/\u001b[39;49m\u001b[43mb\u001b[49m)\n\u001b[0;32m      5\u001b[0m \u001b[38;5;28;01mexcept\u001b[39;00m:\n",
      "\u001b[1;31mZeroDivisionError\u001b[0m: division by zero",
      "\nDuring handling of the above exception, another exception occurred:\n",
      "\u001b[1;31mNameError\u001b[0m                                 Traceback (most recent call last)",
      "Input \u001b[1;32mIn [17]\u001b[0m, in \u001b[0;36m<cell line: 3>\u001b[1;34m()\u001b[0m\n\u001b[0;32m      4\u001b[0m     \u001b[38;5;28mprint\u001b[39m(a\u001b[38;5;241m/\u001b[39mb)\n\u001b[0;32m      5\u001b[0m \u001b[38;5;28;01mexcept\u001b[39;00m:\n\u001b[1;32m----> 6\u001b[0m     \u001b[38;5;28;01mraise\u001b[39;00m \u001b[43mexception\u001b[49m(\u001b[38;5;124m\"\u001b[39m\u001b[38;5;124msorry,no number below zero\u001b[39m\u001b[38;5;124m\"\u001b[39m)\n",
      "\u001b[1;31mNameError\u001b[0m: name 'exception' is not defined"
     ]
    }
   ],
   "source": [
    "a=10\n",
    "b=0\n",
    "try:\n",
    "    print(a/b)\n",
    "except:\n",
    "    raise exception(\"sorry,no number below zero\")"
   ]
  },
  {
   "cell_type": "code",
   "execution_count": 19,
   "id": "20b2f779",
   "metadata": {},
   "outputs": [
    {
     "name": "stdout",
     "output_type": "stream",
     "text": [
      "enter a positive number-7\n",
      "this is not positive number\n"
     ]
    }
   ],
   "source": [
    "try:\n",
    "    a=int(input('enter a positive number'))\n",
    "    if a<=0:\n",
    "        raise ValueError('this is not positive number')\n",
    "except ValueError as ve:\n",
    "    print(ve)"
   ]
  },
  {
   "cell_type": "code",
   "execution_count": null,
   "id": "e48997fc",
   "metadata": {},
   "outputs": [],
   "source": [
    "try:\n",
    "    a=int(input('enter any positive number'))\n",
    "    if a<=0:\n",
    "        raise exception('this is not positive number')\n",
    "except ValueError as ve:\n",
    "    print(ve)"
   ]
  }
 ],
 "metadata": {
  "kernelspec": {
   "display_name": "Python 3 (ipykernel)",
   "language": "python",
   "name": "python3"
  },
  "language_info": {
   "codemirror_mode": {
    "name": "ipython",
    "version": 3
   },
   "file_extension": ".py",
   "mimetype": "text/x-python",
   "name": "python",
   "nbconvert_exporter": "python",
   "pygments_lexer": "ipython3",
   "version": "3.9.12"
  }
 },
 "nbformat": 4,
 "nbformat_minor": 5
}
