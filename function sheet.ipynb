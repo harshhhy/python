{
 "cells": [
  {
   "cell_type": "code",
   "execution_count": null,
   "id": "ca889d39",
   "metadata": {},
   "outputs": [],
   "source": [
    "def fac(n):\n",
    "    for i in range(1,n):\n",
    "        n=n*i\n",
    "    return n\n",
    "print(fac(5))"
   ]
  },
  {
   "cell_type": "code",
   "execution_count": null,
   "id": "33a56c05",
   "metadata": {},
   "outputs": [],
   "source": [
    "def table(n):\n",
    "    i=1\n",
    "    while i<11:\n",
    "        print('{}*{}={}'.format(n,i,n*i))\n",
    "        i=i+1\n",
    "    return \n",
    "a=int(input('enter any number'))\n",
    "print(table(a))"
   ]
  },
  {
   "cell_type": "code",
   "execution_count": null,
   "id": "e749b756",
   "metadata": {},
   "outputs": [],
   "source": [
    "def prime(n):\n",
    "    if n%2==0:\n",
    "        print('number is prime')\n",
    "    else:\n",
    "        print('number is not prime')\n",
    "    return\n",
    "a=int(input('enter any number'))\n",
    "print(prime(a))"
   ]
  },
  {
   "cell_type": "code",
   "execution_count": null,
   "id": "6e570a43",
   "metadata": {},
   "outputs": [],
   "source": [
    "def fibbo(n):\n",
    "    a=0\n",
    "    b=1\n",
    "    sum=0\n",
    "    i=1\n",
    "    while i<=n:\n",
    "        print(sum)\n",
    "        i=i+1\n",
    "        a=b\n",
    "        b=sum\n",
    "        sum=a+b\n",
    "    return \n",
    "a=int(input('enter any number'))\n",
    "print(fibbo(a))"
   ]
  },
  {
   "cell_type": "code",
   "execution_count": 26,
   "id": "cacdf635",
   "metadata": {},
   "outputs": [
    {
     "name": "stdout",
     "output_type": "stream",
     "text": [
      "enter any wordaware\n",
      "not palindrone\n",
      "None\n"
     ]
    }
   ],
   "source": [
    "def palindrone():\n",
    "    a=input('enter any word')\n",
    "    b=a[::-1]\n",
    "    if a==b:\n",
    "        print('is palindrone')\n",
    "    else:\n",
    "        print('not palindrone')\n",
    "    return \n",
    "print(palindrone())"
   ]
  },
  {
   "cell_type": "code",
   "execution_count": 1,
   "id": "57d7866d",
   "metadata": {},
   "outputs": [
    {
     "name": "stdout",
     "output_type": "stream",
     "text": [
      "enter any wordharsh\n",
      "1\n",
      "None\n"
     ]
    }
   ],
   "source": [
    "def vowels():\n",
    "    x=input('enter any word')\n",
    "    d=0\n",
    "    d=d+x.count('a')\n",
    "    d=d+x.count('e')\n",
    "    d=d+x.count('i')\n",
    "    d=d+x.count('o')\n",
    "    d=d+x.count('u')\n",
    "    print(d)\n",
    "    return\n",
    "print(vowels())\n",
    "    "
   ]
  },
  {
   "cell_type": "code",
   "execution_count": null,
   "id": "2a88d4a1",
   "metadata": {},
   "outputs": [],
   "source": []
  },
  {
   "cell_type": "code",
   "execution_count": null,
   "id": "ad0d6d30",
   "metadata": {},
   "outputs": [],
   "source": []
  }
 ],
 "metadata": {
  "kernelspec": {
   "display_name": "Python 3 (ipykernel)",
   "language": "python",
   "name": "python3"
  },
  "language_info": {
   "codemirror_mode": {
    "name": "ipython",
    "version": 3
   },
   "file_extension": ".py",
   "mimetype": "text/x-python",
   "name": "python",
   "nbconvert_exporter": "python",
   "pygments_lexer": "ipython3",
   "version": "3.9.12"
  }
 },
 "nbformat": 4,
 "nbformat_minor": 5
}
