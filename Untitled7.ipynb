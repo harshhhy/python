{
 "cells": [
  {
   "cell_type": "code",
   "execution_count": 2,
   "id": "cfd9c46f",
   "metadata": {},
   "outputs": [
    {
     "ename": "SyntaxError",
     "evalue": "invalid syntax (3358615754.py, line 23)",
     "output_type": "error",
     "traceback": [
      "\u001b[1;36m  Input \u001b[1;32mIn [2]\u001b[1;36m\u001b[0m\n\u001b[1;33m    if choices==1:\u001b[0m\n\u001b[1;37m                 ^\u001b[0m\n\u001b[1;31mSyntaxError\u001b[0m\u001b[1;31m:\u001b[0m invalid syntax\n"
     ]
    }
   ],
   "source": [
    "def add(num1,num2):\n",
    "    print('num1+num2')\n",
    "def sub(num1,num2):\n",
    "    print('num1-num2')\n",
    "def mul(num1,num2):\n",
    "    print('num1*num2')\n",
    "def div(num1,num2):\n",
    "    print('num1/num2')\n",
    "    \n",
    "            \n",
    "print('addition')\n",
    "print('subtraction')\n",
    "print('muliplication')\n",
    "print('divsion')\n",
    "\n",
    "num1=int(input('enter any number'))         \n",
    "num2=int(input('enter any number'))\n",
    "\n",
    "\n",
    "            \n",
    "\n",
    "if choices==1:\n",
    "    print('add',command=add)\n",
    "elif choices==2:\n",
    "    print('sub',command=sub)\n",
    "elif choices==3:\n",
    "    print('mul',command=mul)\n",
    "elif choices==4:\n",
    "    print('div',command=div)\n",
    "    \n",
    "else:\n",
    "    print('enter correct input')\n"
   ]
  },
  {
   "cell_type": "code",
   "execution_count": null,
   "id": "311d417b",
   "metadata": {},
   "outputs": [],
   "source": []
  }
 ],
 "metadata": {
  "kernelspec": {
   "display_name": "Python 3 (ipykernel)",
   "language": "python",
   "name": "python3"
  },
  "language_info": {
   "codemirror_mode": {
    "name": "ipython",
    "version": 3
   },
   "file_extension": ".py",
   "mimetype": "text/x-python",
   "name": "python",
   "nbconvert_exporter": "python",
   "pygments_lexer": "ipython3",
   "version": "3.9.12"
  }
 },
 "nbformat": 4,
 "nbformat_minor": 5
}
