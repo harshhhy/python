{
 "cells": [
  {
   "cell_type": "code",
   "execution_count": null,
   "id": "9f3864c9",
   "metadata": {},
   "outputs": [],
   "source": [
    "n=int(input('enter any number'))\n",
    "\n",
    "if(n%2==0):\n",
    "    if(2<n<5):\n",
    "        print('not wierd')\n",
    "    elif(6<n<20):\n",
    "        print('wierd')\n",
    "    elif(n>20):\n",
    "        print('not wierd')\n",
    "                            \n",
    "else:\n",
    "    print('wierd')\n",
    "\n",
    "                 \n",
    "        \n",
    "    \n"
   ]
  },
  {
   "cell_type": "code",
   "execution_count": null,
   "id": "f825530d",
   "metadata": {},
   "outputs": [],
   "source": [
    "a = int(input())\n",
    "b = int(input())\n",
    "c=a+b\n",
    "d=a-b\n",
    "e=a*b\n",
    "print((c,d,e))\n",
    "    "
   ]
  },
  {
   "cell_type": "code",
   "execution_count": 2,
   "id": "d76a5cc3",
   "metadata": {},
   "outputs": [
    {
     "name": "stdout",
     "output_type": "stream",
     "text": [
      "2\n",
      "2\n",
      "(1, 1.0)\n"
     ]
    }
   ],
   "source": [
    "a = int(input())\n",
    "b = int(input())\n",
    "c=a//b\n",
    "d=a/b\n",
    "print((c,d))"
   ]
  },
  {
   "cell_type": "code",
   "execution_count": null,
   "id": "141155cf",
   "metadata": {},
   "outputs": [],
   "source": []
  },
  {
   "cell_type": "code",
   "execution_count": null,
   "id": "c67dc7f7",
   "metadata": {},
   "outputs": [],
   "source": []
  }
 ],
 "metadata": {
  "kernelspec": {
   "display_name": "Python 3 (ipykernel)",
   "language": "python",
   "name": "python3"
  },
  "language_info": {
   "codemirror_mode": {
    "name": "ipython",
    "version": 3
   },
   "file_extension": ".py",
   "mimetype": "text/x-python",
   "name": "python",
   "nbconvert_exporter": "python",
   "pygments_lexer": "ipython3",
   "version": "3.9.12"
  }
 },
 "nbformat": 4,
 "nbformat_minor": 5
}
