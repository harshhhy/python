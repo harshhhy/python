{
 "cells": [
  {
   "cell_type": "code",
   "execution_count": null,
   "id": "3ecd90b3",
   "metadata": {},
   "outputs": [],
   "source": [
    "pip install tk\n"
   ]
  },
  {
   "cell_type": "code",
   "execution_count": 1,
   "id": "5bd21d31",
   "metadata": {},
   "outputs": [],
   "source": [
    "import tkinter as tk\n",
    "\n",
    "main=tk.Tk()\n",
    "main.title('calculator')\n",
    "main.geometry('600x600')\n",
    "\n",
    "def func():\n",
    "    a=e1.get()\n",
    "    b=e2.get()\n",
    "    s=int(a)+int(b)\n",
    "    t3.config(text=s)\n",
    "    \n",
    "def sub():\n",
    "    a=e1.get()\n",
    "    b=e2.get()\n",
    "    z=int(a)-int(b)\n",
    "    t4.config(text=z)\n",
    "    \n",
    "t1=tk.Label(main,text='first number')\n",
    "t1.grid(row=0,column=0)\n",
    "\n",
    "e1=tk.Entry(main)\n",
    "e1.grid(row=0,column=1)\n",
    "\n",
    "t2=tk.Label(main,text='second number')\n",
    "t2.grid(row=1,column=0)\n",
    "\n",
    "e2=tk.Entry(main)\n",
    "e2.grid(row=1,column=1)\n",
    "\n",
    "button=tk.Button(main,text='add',bg='yellow',fg='red',width=20,command=func)\n",
    "button.grid(row=2,column=0)\n",
    "\n",
    "t3=tk.Label(main)\n",
    "t3.grid(row=2,column=1)\n",
    "\n",
    "button=tk.Button(main,text='subtract',bg='blue',fg='black',width=20,command=sub)\n",
    "button.grid(row=3,column=0)\n",
    "\n",
    "t4=tk.Label(main)\n",
    "t4.grid(row=3,column=1)\n",
    "main.mainloop()"
   ]
  },
  {
   "cell_type": "code",
   "execution_count": 3,
   "id": "7d61bc56",
   "metadata": {},
   "outputs": [
    {
     "data": {
      "text/plain": [
       "<bound method student.hello of <__main__.student object at 0x00000191470054F0>>"
      ]
     },
     "execution_count": 3,
     "metadata": {},
     "output_type": "execute_result"
    }
   ],
   "source": [
    "class student:\n",
    "    def name(self):\n",
    "        print('my name is harsh')\n",
    "    def hello(self,a,b):\n",
    "        c=a+b\n",
    "        print('sum=',c)\n",
    "\n",
    "abc=student()\n",
    "abc.hello"
   ]
  },
  {
   "cell_type": "code",
   "execution_count": null,
   "id": "434ebe71",
   "metadata": {},
   "outputs": [],
   "source": []
  }
 ],
 "metadata": {
  "kernelspec": {
   "display_name": "Python 3 (ipykernel)",
   "language": "python",
   "name": "python3"
  },
  "language_info": {
   "codemirror_mode": {
    "name": "ipython",
    "version": 3
   },
   "file_extension": ".py",
   "mimetype": "text/x-python",
   "name": "python",
   "nbconvert_exporter": "python",
   "pygments_lexer": "ipython3",
   "version": "3.9.12"
  }
 },
 "nbformat": 4,
 "nbformat_minor": 5
}
