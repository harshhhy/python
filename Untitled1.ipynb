{
 "cells": [
  {
   "cell_type": "code",
   "execution_count": null,
   "id": "7607d558",
   "metadata": {},
   "outputs": [],
   "source": [
    "n1=1\n",
    "n=int(input('enter any number'))\n",
    "\n",
    "while n>1:\n",
    "    n1=n1*n\n",
    "    n=n-1\n",
    "    \n",
    "print(n1)"
   ]
  },
  {
   "cell_type": "code",
   "execution_count": 2,
   "id": "e2142571",
   "metadata": {},
   "outputs": [
    {
     "name": "stdout",
     "output_type": "stream",
     "text": [
      "enter any number6\n",
      "fibbonaci series:\n",
      "0\n",
      "1\n",
      "1\n",
      "2\n",
      "3\n",
      "5\n"
     ]
    }
   ],
   "source": [
    "n=int(input('enter any number'))\n",
    "a,b=0,1\n",
    "sum=0\n",
    "count=1\n",
    "print('fibbonaci series:')\n",
    "\n",
    "while count<=n : \n",
    "    print(sum)\n",
    "    count=count+1\n",
    "    a=b\n",
    "    b=sum\n",
    "    sum=a+b\n",
    "    \n"
   ]
  },
  {
   "cell_type": "code",
   "execution_count": null,
   "id": "6d882f90",
   "metadata": {},
   "outputs": [],
   "source": [
    "n1,n2,n3,i=5,6,7,1\n",
    "\n",
    "while i<11:\n",
    "    print('{}*{}={}' .format(n1,i,n1*i ,end=\"\"))\n",
    "    print('{}*{}={}'.format(n2,i,n2*i ,end=\"\"))\n",
    "    print('{}*{}={}'.format(n3,i,n3*i ,end=\"\"))\n",
    "    i=i+1"
   ]
  },
  {
   "cell_type": "code",
   "execution_count": null,
   "id": "499d69bb",
   "metadata": {},
   "outputs": [],
   "source": []
  }
 ],
 "metadata": {
  "kernelspec": {
   "display_name": "Python 3 (ipykernel)",
   "language": "python",
   "name": "python3"
  },
  "language_info": {
   "codemirror_mode": {
    "name": "ipython",
    "version": 3
   },
   "file_extension": ".py",
   "mimetype": "text/x-python",
   "name": "python",
   "nbconvert_exporter": "python",
   "pygments_lexer": "ipython3",
   "version": "3.9.12"
  }
 },
 "nbformat": 4,
 "nbformat_minor": 5
}
