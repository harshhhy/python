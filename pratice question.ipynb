{
 "cells": [
  {
   "cell_type": "code",
   "execution_count": null,
   "id": "5b222a33",
   "metadata": {},
   "outputs": [],
   "source": [
    "s=\"carbecomescra\"\n",
    "print(s.replace('a','1'))"
   ]
  },
  {
   "cell_type": "code",
   "execution_count": null,
   "id": "073177f7",
   "metadata": {},
   "outputs": [],
   "source": [
    "x=input('enter any word')\n",
    "d=0\n",
    "\n",
    "d=d+x.count('a')\n",
    "d=d+x.count('e')\n",
    "d=d+x.count('i')\n",
    "d=d+x.count('o')\n",
    "d=d+x.count('u')\n",
    "print(d)"
   ]
  },
  {
   "cell_type": "code",
   "execution_count": null,
   "id": "279258df",
   "metadata": {},
   "outputs": [],
   "source": [
    "s1=\"car\"\n",
    "s2=\"acr\"\n",
    "if(sorted(s1)==sorted(s2)):\n",
    "    print(\"strings are anagram\")\n",
    "else:\n",
    "    print(\"string are not anagram\")\n"
   ]
  },
  {
   "cell_type": "code",
   "execution_count": null,
   "id": "9afa587f",
   "metadata": {},
   "outputs": [],
   "source": [
    "a=\"abcdefg\"\n",
    "\n",
    "print(a[0:8:-1])\n"
   ]
  },
  {
   "cell_type": "code",
   "execution_count": null,
   "id": "71850f88",
   "metadata": {},
   "outputs": [],
   "source": [
    "a=\"abcdef\"\n",
    "\n",
    "print(a[0:7:2])"
   ]
  },
  {
   "cell_type": "code",
   "execution_count": null,
   "id": "76696767",
   "metadata": {},
   "outputs": [],
   "source": [
    "a=\"the quick brown fox 123\" \n",
    "print(a.count('no.of words'))"
   ]
  },
  {
   "cell_type": "code",
   "execution_count": 11,
   "id": "2ba3a1b2",
   "metadata": {},
   "outputs": [
    {
     "name": "stdout",
     "output_type": "stream",
     "text": [
      "civi\n",
      "not palindrone\n"
     ]
    }
   ],
   "source": [
    "a=\"civic\"\n",
    "\n",
    "b=a[0:-1]\n",
    "print(b)\n",
    "\n",
    "if(a==b):\n",
    "    print('string is palindrone')\n",
    "else:\n",
    "    print('not palindrone')"
   ]
  },
  {
   "cell_type": "code",
   "execution_count": 10,
   "id": "d4b1bfc5",
   "metadata": {},
   "outputs": [
    {
     "name": "stdout",
     "output_type": "stream",
     "text": [
      "\n"
     ]
    }
   ],
   "source": [
    "a=\"civic\"\n",
    "\n",
    "b=a[0:6:-1]\n",
    "print(b)"
   ]
  },
  {
   "cell_type": "code",
   "execution_count": null,
   "id": "3c1bafd0",
   "metadata": {},
   "outputs": [],
   "source": []
  }
 ],
 "metadata": {
  "kernelspec": {
   "display_name": "Python 3 (ipykernel)",
   "language": "python",
   "name": "python3"
  },
  "language_info": {
   "codemirror_mode": {
    "name": "ipython",
    "version": 3
   },
   "file_extension": ".py",
   "mimetype": "text/x-python",
   "name": "python",
   "nbconvert_exporter": "python",
   "pygments_lexer": "ipython3",
   "version": "3.9.12"
  }
 },
 "nbformat": 4,
 "nbformat_minor": 5
}
