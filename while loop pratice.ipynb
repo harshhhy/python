{
 "cells": [
  {
   "cell_type": "code",
   "execution_count": null,
   "id": "5f7c2254",
   "metadata": {},
   "outputs": [],
   "source": [
    "n1=1\n",
    "n=int(input('enter any number'))\n",
    "\n",
    "while n>1:\n",
    "    n1=n1*n\n",
    "    n=n-1\n",
    "    \n",
    "print(n1)"
   ]
  },
  {
   "cell_type": "code",
   "execution_count": 1,
   "id": "7a8b2e3a",
   "metadata": {},
   "outputs": [
    {
     "name": "stdout",
     "output_type": "stream",
     "text": [
      "enter any number10\n",
      "fibbonaci series:\n",
      "0\n",
      "1\n",
      "1\n",
      "2\n",
      "3\n",
      "5\n",
      "8\n",
      "13\n",
      "21\n",
      "34\n"
     ]
    }
   ],
   "source": [
    "n=int(input('enter any number'))\n",
    "a,b=0,1\n",
    "sum=0\n",
    "count=1\n",
    "print('fibbonaci series:')\n",
    "\n",
    "while count<=n : \n",
    "    print(sum)\n",
    "    count=count+1\n",
    "    a=b\n",
    "    b=sum\n",
    "    sum=a+b\n",
    "    \n"
   ]
  },
  {
   "cell_type": "code",
   "execution_count": 3,
   "id": "6acff3a4",
   "metadata": {},
   "outputs": [
    {
     "name": "stdout",
     "output_type": "stream",
     "text": [
      "5*1=5    6*1=6    7*1=7    \n",
      "5*2=10    6*2=12    7*2=14    \n",
      "5*3=15    6*3=18    7*3=21    \n",
      "5*4=20    6*4=24    7*4=28    \n",
      "5*5=25    6*5=30    7*5=35    \n",
      "5*6=30    6*6=36    7*6=42    \n",
      "5*7=35    6*7=42    7*7=49    \n",
      "5*8=40    6*8=48    7*8=56    \n",
      "5*9=45    6*9=54    7*9=63    \n",
      "5*10=50    6*10=60    7*10=70    \n"
     ]
    }
   ],
   "source": [
    "i=1\n",
    "while i<11:\n",
    "    n=5\n",
    "    while n<=7:\n",
    "        print('{}*{}={}'.format(n,i,n*i),end=\" \"*4)\n",
    "        n=n+1\n",
    "    print()\n",
    "    i=i+1"
   ]
  },
  {
   "cell_type": "code",
   "execution_count": null,
   "id": "176a351c",
   "metadata": {},
   "outputs": [],
   "source": []
  },
  {
   "cell_type": "code",
   "execution_count": null,
   "id": "cb7f4efd",
   "metadata": {},
   "outputs": [],
   "source": []
  }
 ],
 "metadata": {
  "kernelspec": {
   "display_name": "Python 3 (ipykernel)",
   "language": "python",
   "name": "python3"
  },
  "language_info": {
   "codemirror_mode": {
    "name": "ipython",
    "version": 3
   },
   "file_extension": ".py",
   "mimetype": "text/x-python",
   "name": "python",
   "nbconvert_exporter": "python",
   "pygments_lexer": "ipython3",
   "version": "3.9.12"
  }
 },
 "nbformat": 4,
 "nbformat_minor": 5
}
